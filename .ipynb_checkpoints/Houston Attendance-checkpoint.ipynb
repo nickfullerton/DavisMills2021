{
 "cells": [
  {
   "cell_type": "code",
   "execution_count": 1,
   "id": "1c5ae0b6",
   "metadata": {},
   "outputs": [],
   "source": [
    "import json\n",
    "from collections import defaultdict\n",
    "\n",
    "f = open('2021Games/game5.json')\n",
    "\n",
    "data = json.load(f)\n",
    "\n",
    "f.close()\n"
   ]
  },
  {
   "cell_type": "code",
   "execution_count": 2,
   "id": "bcf2f4ed",
   "metadata": {},
   "outputs": [
    {
     "data": {
      "text/plain": [
       "dict_keys(['id', 'status', 'scheduled', 'attendance', 'entry_mode', 'clock', 'quarter', 'sr_id', 'weather', 'summary', 'periods', '_comment'])"
      ]
     },
     "execution_count": 2,
     "metadata": {},
     "output_type": "execute_result"
    }
   ],
   "source": [
    "data.keys()"
   ]
  },
  {
   "cell_type": "code",
   "execution_count": 3,
   "id": "1bd51a39",
   "metadata": {},
   "outputs": [
    {
     "data": {
      "text/plain": [
       "68450"
      ]
     },
     "execution_count": 3,
     "metadata": {},
     "output_type": "execute_result"
    }
   ],
   "source": [
    "attendance = data['attendance']\n",
    "attendance"
   ]
  },
  {
   "cell_type": "code",
   "execution_count": 4,
   "id": "6d5ee0b7",
   "metadata": {},
   "outputs": [
    {
     "data": {
      "text/plain": [
       "dict_keys(['season', 'week', 'venue', 'home', 'away'])"
      ]
     },
     "execution_count": 4,
     "metadata": {},
     "output_type": "execute_result"
    }
   ],
   "source": [
    "data['summary'].keys()"
   ]
  },
  {
   "cell_type": "code",
   "execution_count": 5,
   "id": "82e64c75",
   "metadata": {},
   "outputs": [
    {
     "data": {
      "text/plain": [
       "'HOU'"
      ]
     },
     "execution_count": 5,
     "metadata": {},
     "output_type": "execute_result"
    }
   ],
   "source": [
    "capacity = data['summary']['home']['alias']\n",
    "capacity"
   ]
  },
  {
   "cell_type": "code",
   "execution_count": 12,
   "id": "dbb1e9fe",
   "metadata": {},
   "outputs": [
    {
     "name": "stdout",
     "output_type": "stream",
     "text": [
      "JAC at HOU\n",
      "Playing at NRG Stadium with a capacity of 72220 with an attendance of 68105 which makes it 94.0% full!\n",
      "\n",
      "HOU at CLE\n",
      "Playing at FirstEnergy Stadium with a capacity of 67895 with an attendance of 67431 which makes it 99.0% full!\n",
      "\n",
      "CAR at HOU\n",
      "Playing at NRG Stadium with a capacity of 72220 with an attendance of 68320 which makes it 95.0% full!\n",
      "\n",
      "HOU at BUF\n",
      "Playing at Highmark Stadium with a capacity of 71608 with an attendance of 68087 which makes it 95.0% full!\n",
      "\n",
      "NE at HOU\n",
      "Playing at NRG Stadium with a capacity of 72220 with an attendance of 68450 which makes it 95.0% full!\n",
      "\n",
      "HOU at IND\n",
      "Playing at Lucas Oil Stadium with a capacity of 67000 with an attendance of 57947 which makes it 86.0% full!\n",
      "\n",
      "HOU at ARI\n",
      "Playing at State Farm Stadium with a capacity of 63400 with an attendance of 60297 which makes it 95.0% full!\n",
      "\n",
      "LA at HOU\n",
      "Playing at NRG Stadium with a capacity of 72220 with an attendance of 66013 which makes it 91.0% full!\n",
      "\n",
      "HOU at MIA\n",
      "Playing at Hard Rock Stadium with a capacity of 65326 with an attendance of 60232 which makes it 92.0% full!\n",
      "\n",
      "HOU at TEN\n",
      "Playing at Nissan Stadium with a capacity of 69143 with an attendance of 67395 which makes it 97.0% full!\n",
      "\n",
      "NYJ at HOU\n",
      "Playing at NRG Stadium with a capacity of 72220 with an attendance of 65120 which makes it 90.0% full!\n",
      "\n",
      "IND at HOU\n",
      "Playing at NRG Stadium with a capacity of 72220 with an attendance of 65291 which makes it 90.0% full!\n",
      "\n",
      "SEA at HOU\n",
      "Playing at NRG Stadium with a capacity of 72220 with an attendance of 67610 which makes it 94.0% full!\n",
      "\n",
      "HOU at JAC\n",
      "Playing at TIAA Bank Field with a capacity of 69132 with an attendance of 60252 which makes it 87.0% full!\n",
      "\n",
      "LAC at HOU\n",
      "Playing at NRG Stadium with a capacity of 72220 with an attendance of 65674 which makes it 91.0% full!\n",
      "\n",
      "HOU at SF\n",
      "Playing at Levi's Stadium with a capacity of 68500 with an attendance of 68500 which makes it 100.0% full!\n",
      "\n",
      "TEN at HOU\n",
      "Playing at NRG Stadium with a capacity of 72220 with an attendance of 66722 which makes it 92.0% full!\n",
      "\n",
      "\n",
      "Home percentage 93.0%\n",
      "Away percentage 94.0%\n",
      "Total percentage 93.0%\n"
     ]
    }
   ],
   "source": [
    "total_capacity = 0\n",
    "total_attendance = 0\n",
    "\n",
    "home_capacity = 0\n",
    "home_attendance = 0\n",
    "\n",
    "away_capacity = 0\n",
    "away_attendance = 0\n",
    "\n",
    "i = 1\n",
    "while (i < 18):\n",
    "    file = '2021Games/game' + str(i) + '.json'\n",
    "    f = open(file)\n",
    "    data = json.load(f)\n",
    "    f.close()\n",
    "    \n",
    "    attendance = data['attendance']\n",
    "    capacity = data['summary']['venue']['capacity']\n",
    "    stadium = data['summary']['venue']['name']\n",
    "    home_team = data['summary']['home']['alias']\n",
    "    away_team = data['summary']['away']['alias']\n",
    "    \n",
    "    if attendance > capacity:\n",
    "        attendance = capacity\n",
    "    \n",
    "    if home_team == \"HOU\":\n",
    "        home_capacity += capacity\n",
    "        home_attendance += attendance\n",
    "    else:\n",
    "        away_capacity += capacity\n",
    "        away_attendance += attendance\n",
    "    \n",
    "    total_capacity += capacity\n",
    "    total_attendance += attendance\n",
    "    \n",
    "    print(f\"{away_team} at {home_team}\")\n",
    "    print(f\"Playing at {stadium} with a capacity of {str(capacity)} with an attendance of {str(attendance)} which makes it {round((attendance / capacity) * 100, 0)}% full!\")\n",
    "    print()\n",
    "    \n",
    "    i+=1\n",
    "    \n",
    "print()\n",
    "print(f\"Home percentage {round((home_attendance/home_capacity)*100,0)}%\")\n",
    "print(f\"Away percentage {round((away_attendance/away_capacity)*100,0)}%\")\n",
    "print(f\"Total percentage {round((total_attendance/total_capacity)*100,0)}%\")"
   ]
  },
  {
   "cell_type": "code",
   "execution_count": null,
   "id": "a951075d",
   "metadata": {},
   "outputs": [],
   "source": []
  }
 ],
 "metadata": {
  "kernelspec": {
   "display_name": "Python 3 (ipykernel)",
   "language": "python",
   "name": "python3"
  },
  "language_info": {
   "codemirror_mode": {
    "name": "ipython",
    "version": 3
   },
   "file_extension": ".py",
   "mimetype": "text/x-python",
   "name": "python",
   "nbconvert_exporter": "python",
   "pygments_lexer": "ipython3",
   "version": "3.8.5"
  }
 },
 "nbformat": 4,
 "nbformat_minor": 5
}
